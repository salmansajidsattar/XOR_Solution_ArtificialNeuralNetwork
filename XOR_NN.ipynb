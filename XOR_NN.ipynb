{
  "cells": [
    {
      "cell_type": "markdown",
      "source": [
        "# **Implementation of XOR_ANN with input layer,zero hidden layer and output layer**"
      ],
      "metadata": {
        "id": "OoKYvr_Mc9XV"
      }
    },
    {
      "cell_type": "code",
      "execution_count": 2,
      "metadata": {
        "id": "_ov0FCBiPEJD"
      },
      "outputs": [],
      "source": [
        "import numpy as np # For matrix math\n",
        "import matplotlib.pyplot as plt # For plotting\n",
        "import sys # For printing"
      ]
    },
    {
      "cell_type": "code",
      "execution_count": 3,
      "metadata": {
        "id": "Vyn_8fDtPiU0"
      },
      "outputs": [],
      "source": [
        "# The training data.\n",
        "X = np.array([\n",
        "    [0, 1],\n",
        "    [1, 0],\n",
        "    [1, 1],\n",
        "    [0, 0]\n",
        "])\n",
        "\n",
        "# The labels for the training data.\n",
        "y = np.array([\n",
        "    [1],\n",
        "    [1],\n",
        "    [0],\n",
        "    [0]\n",
        "])\n",
        "\n",
        "num_i_units = 2 # Number of Input units\n",
        "# num_h_units = 2 # Number of Hidden units\n",
        "num_h_units = 0 # Number of Hidden units\n",
        "num_o_units = 1 # Number of Output units\n",
        "# The learning rate for Gradient Descent.\n",
        "learning_rate = 0.1\n",
        "# The parameter to help with overfitting.\n",
        "reg_param = 0\n",
        "# Maximum iterations for Gradient Descent.\n",
        "max_iter = 1000\n",
        "# Number of training examples\n",
        "m = 4\n",
        "np.random.seed(2)\n",
        "W1 = np.random.random((num_h_units,num_i_units )) #W1 to W9\n",
        "W2 = np.random.random((num_o_units,num_h_units)) #W10 to W12\n",
        "\n",
        "# W1 = np.random.no( (num_h_units, num_i_units)) # 2x2\n",
        "# W2 = np.random.normal(0, 1, (num_o_units, num_h_units)) # 1x2\n",
        "B1 = np.random.random((num_h_units, 1)) # 2x1\n",
        "B2 = np.random.random((num_o_units, 1)) # 1x1"
      ]
    },
    {
      "cell_type": "code",
      "execution_count": 4,
      "metadata": {
        "id": "bKyxMYUIQCV4"
      },
      "outputs": [],
      "source": [
        "def sigmoid(z, derv=False):\n",
        "    if derv: return z * (1 - z)\n",
        "    return 1 / (1 + np.exp(-z))\n",
        "\n",
        "def forward(x, predict=False):\n",
        "    a1 = x.reshape(x.shape[0], 1) # Getting the training example as a column vector.\n",
        "\n",
        "    z2 = W1.dot(a1) + B1 # 2x2 * 2x1 + 2x1 = 2x1\n",
        "    a2 = sigmoid(z2) # 2x1\n",
        "\n",
        "    z3 = W2.dot(a2) + B2 # 1x2 * 2x1 + 1x1 = 1x1\n",
        "    a3 = sigmoid(z3)\n",
        "\n",
        "    if predict: return a3\n",
        "    return (a1, a2, a3)"
      ]
    },
    {
      "cell_type": "code",
      "execution_count": 5,
      "metadata": {
        "id": "-CFu53WKQLAd"
      },
      "outputs": [],
      "source": [
        "dW1 = 0 # Gradient for W1\n",
        "dW2 = 0 # Gradient for W2\n",
        "\n",
        "dB1 = 0 # Gradient for B1\n",
        "dB2 = 0 # Gradient for B2\n",
        "\n",
        "cost = np.zeros((max_iter, 1)) # Column vector to record the cost of the NN after ea"
      ]
    },
    {
      "cell_type": "code",
      "execution_count": 6,
      "metadata": {
        "id": "nIXjR2QRQOEd"
      },
      "outputs": [],
      "source": [
        "def train(_W1, _W2, _B1, _B2): # The arguments are to bypass UnboundLocalError error\n",
        "    for i in range(max_iter):\n",
        "        c = 0\n",
        "        \n",
        "        dW1 = 0\n",
        "        dW2 = 0\n",
        "\n",
        "        dB1 = 0\n",
        "        dB2 = 0\n",
        "        \n",
        "        for j in range(m):\n",
        "            sys.stdout.write(\"\\rIteration: {} and {}\".format(i + 1, j + 1))\n",
        "\n",
        "            # Forward Prop.\n",
        "            a0 = X[j].reshape(X[j].shape[0], 1) # 2x1\n",
        "\n",
        "            z1 = _W1.dot(a0) + _B1 # 2x2 * 2x1 + 2x1 = 2x1\n",
        "            a1 = sigmoid(z1) # 2x1\n",
        "\n",
        "            z2 = _W2.dot(a1) + _B2 # 1x2 * 2x1 + 1x1 = 1x1\n",
        "            a2 = sigmoid(z2) # 1x1\n",
        "\n",
        "            # Back prop.\n",
        "            dz2 = a2 - y[j] # 1x1\n",
        "            dW2 += dz2 * a1.T # 1x1 .* 1x2 = 1x2\n",
        "\n",
        "            dz1 = np.multiply((_W2.T * dz2), sigmoid(a1, derv=True)) # (2x1 * 1x1) .* 2x1 = 2x1\n",
        "            dW1 += dz1.dot(a0.T) # 2x1 * 1x2 = 2x2\n",
        "\n",
        "            dB1 += dz1 # 2x1\n",
        "            dB2 += dz2 # 1x1\n",
        "\n",
        "            c = c + (-(y[j] * np.log(a2)) - ((1 - y[j]) * np.log(1 - a2)))\n",
        "            sys.stdout.flush() # Updating the text.\n",
        "        \n",
        "        _W1 = _W1 - learning_rate * (dW1 / m) + ( (reg_param / m) * _W1)\n",
        "        _W2 = _W2 - learning_rate * (dW2 / m) + ( (reg_param / m) * _W2)\n",
        "\n",
        "        _B1 = _B1 - learning_rate * (dB1 / m)\n",
        "        _B2 = _B2 - learning_rate * (dB2 / m)\n",
        "        cost[i] = (c / m) + ( \n",
        "            (reg_param / (2 * m)) * \n",
        "            (\n",
        "                np.sum(np.power(_W1, 2)) + \n",
        "                np.sum(np.power(_W2, 2))\n",
        "            )\n",
        "        )\n",
        "    return (_W1, _W2, _B1, _B2)\n"
      ]
    },
    {
      "cell_type": "code",
      "execution_count": 7,
      "metadata": {
        "colab": {
          "base_uri": "https://localhost:8080/"
        },
        "id": "oJus9dLsQU_V",
        "outputId": "d37e6987-ed81-40dc-d470-a5fc5377e7cb"
      },
      "outputs": [
        {
          "output_type": "stream",
          "name": "stdout",
          "text": [
            "Iteration: 1000 and 4"
          ]
        }
      ],
      "source": [
        "W1, W2, B1, B2 = train(W1, W2, B1, B2)"
      ]
    },
    {
      "cell_type": "code",
      "execution_count": 8,
      "metadata": {
        "id": "fdRXVwh8Tu5U",
        "colab": {
          "base_uri": "https://localhost:8080/"
        },
        "outputId": "3ea0f03e-90e4-4b31-87aa-824ce764bcf4"
      },
      "outputs": [
        {
          "output_type": "execute_result",
          "data": {
            "text/plain": [
              "array([0.69314718])"
            ]
          },
          "metadata": {},
          "execution_count": 8
        }
      ],
      "source": [
        "min(cost)"
      ]
    },
    {
      "cell_type": "code",
      "execution_count": 9,
      "metadata": {
        "colab": {
          "base_uri": "https://localhost:8080/",
          "height": 449
        },
        "id": "mPilo9CCTOWy",
        "outputId": "4fdee8fb-9b03-40c6-f424-abcfc8c94487"
      },
      "outputs": [
        {
          "output_type": "display_data",
          "data": {
            "text/plain": [
              "<Figure size 640x480 with 1 Axes>"
            ],
            "image/png": "[encoded data removed]"
          },
          "metadata": {}
        }
      ],
      "source": [
        "plt.plot(range(max_iter), cost)\n",
        "\n",
        "# Labelling the x axis as the iterations axis.\n",
        "plt.xlabel(\"Iterations\")\n",
        "\n",
        "# Labelling the y axis as the cost axis.\n",
        "plt.ylabel(\"Cost\")\n",
        "\n",
        "# Showing the plot.\n",
        "plt.show()"
      ]
    },
    {
      "cell_type": "markdown",
      "metadata": {
        "id": "vRrH4vc0qb2T"
      },
      "source": [
        "# **Explantion of Above Process-:(Implementation of XOR_ANN with input layer,zero hidden layer and output layer )**\n",
        "In the above code I simple implemented a Neural Network without hidden layer. As you see from the above graph image the graph line become straight suddenly after few iteration. Interesting this is becasue Neural network without the hidden layer is called a perceptron.\n",
        "A perceptron is a simple type of neural network that can only perform linear operations. This means that it can only learn linear relationships between the input and output data.\n",
        "Therefore,in order to solve the more complex problem, you will need to use a neural network with at least one hidden layer. The hidden layer allows the neural network to learn non-linear relationships between the input and output data."
      ]
    },
    {
      "cell_type": "code",
      "execution_count": 10,
      "metadata": {
        "colab": {
          "base_uri": "https://localhost:8080/",
          "height": 467
        },
        "id": "EbiT6vcKTiyU",
        "outputId": "b3afea4e-691f-4569-b356-39cc530ceeea"
      },
      "outputs": [
        {
          "output_type": "stream",
          "name": "stdout",
          "text": [
            "Iteration: 1000 and 4minimum cost value:- [0.69292881]\n"
          ]
        },
        {
          "output_type": "display_data",
          "data": {
            "text/plain": [
              "<Figure size 640x480 with 1 Axes>"
            ],
            "image/png": "[encoded data removed]"
          },
          "metadata": {}
        }
      ],
      "source": [
        "num_h_units = 2 # Number of Hidden units\n",
        "W1 = np.random.random((num_h_units,num_i_units )) #W1 to W9\n",
        "W2 = np.random.random((num_o_units,num_h_units)) #W10 to W12\n",
        "\n",
        "# W1 = np.random.no( (num_h_units, num_i_units)) # 2x2\n",
        "# W2 = np.random.normal(0, 1, (num_o_units, num_h_units)) # 1x2\n",
        "B1 = np.random.random((num_h_units, 1)) # 2x1\n",
        "B2 = np.random.random((num_o_units, 1)) # 1x1\n",
        "max_iter = 1000\n",
        "cost = np.zeros((max_iter, 1)) # Column vector to record the cost of the NN after ea\n",
        "W1, W2, B1, B2 = train(W1, W2, B1, B2)\n",
        "print(\"minimum cost value:-\",min(cost))\n",
        "plt.plot(range(max_iter), cost)\n",
        "# Labelling the x axis as the iterations axis.\n",
        "plt.xlabel(\"Iterations\")\n",
        "# Labelling the y axis as the cost axis.\n",
        "plt.ylabel(\"Cost\")\n",
        "# Showing the plot.\n",
        "plt.show()"
      ]
    },
    {
      "cell_type": "markdown",
      "metadata": {
        "id": "ZPKHBTKTtPIl"
      },
      "source": [
        "## **Adding the hidden layer with two nodes:**\n",
        "As you cas see from the above figure that after every iteration graph cost value is decreasing beacuse by adding the hidden layer the network start learning the non linear relation as well."
      ]
    },
    {
      "cell_type": "code",
      "execution_count": 11,
      "metadata": {
        "colab": {
          "base_uri": "https://localhost:8080/",
          "height": 467
        },
        "id": "g2iRap3Cb9Xv",
        "outputId": "caa4a242-54c4-4ca5-b6ec-831943622f9d"
      },
      "outputs": [
        {
          "output_type": "stream",
          "name": "stdout",
          "text": [
            "Iteration: 900 and 3"
          ]
        },
        {
          "output_type": "display_data",
          "data": {
            "text/plain": [
              "<Figure size 640x480 with 1 Axes>"
            ],
            "image/png": "[encoded data removed]"
          },
          "metadata": {}
        }
      ],
      "source": [
        "num_h_units = 4 # Number of Hidden units\n",
        "W1 = np.random.random((num_h_units,num_i_units )) #W1 to W9\n",
        "W2 = np.random.random((num_o_units,num_h_units)) #W10 to W12\n",
        "\n",
        "# W1 = np.random.no( (num_h_units, num_i_units)) # 2x2\n",
        "# W2 = np.random.normal(0, 1, (num_o_units, num_h_units)) # 1x2\n",
        "B1 = np.random.random((num_h_units, 1)) # 2x1\n",
        "B2 = np.random.random((num_o_units, 1)) # 1x1\n",
        "max_iter = 1000\n",
        "cost = np.zeros((max_iter, 1)) # Column vector to record the cost of the NN after ea\n",
        "W1, W2, B1, B2 = train(W1, W2, B1, B2)\n",
        "print(\"Minimum cost value-:\",min(cost))\n",
        "plt.plot(range(max_iter), cost)\n",
        "\n",
        "# Labelling the x axis as the iterations axis.\n",
        "plt.xlabel(\"Iterations\")\n",
        "\n",
        "# Labelling the y axis as the cost axis.\n",
        "plt.ylabel(\"Cost\")\n",
        "\n",
        "# Showing the plot.\n",
        "plt.show()"
      ]
    },
    {
      "cell_type": "markdown",
      "metadata": {
        "id": "c7wgIb8vwG9i"
      },
      "source": [
        "# **Further increasing the Hidden nodes-:**\n",
        "As you can easily see that increasing the hidden nodes from 2 to 4 has slighty increase the accuracy of a neural network by allowing it to learn more complex relationships between the input and output data."
      ]
    }
  ],
  "metadata": {
    "accelerator": "GPU",
    "colab": {
      "provenance": [],
      "gpuType": "T4"
    },
    "kernelspec": {
      "display_name": "Python 3",
      "name": "python3"
    },
    "language_info": {
      "name": "python"
    }
  },
  "nbformat": 4,
  "nbformat_minor": 0
}